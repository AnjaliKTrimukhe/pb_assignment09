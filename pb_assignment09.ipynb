{
 "cells": [
  {
   "cell_type": "raw",
   "id": "ea9579df",
   "metadata": {},
   "source": [
    "1. To what does a relative path refer?\n",
    "Ans:\n",
    "Relative paths are relative to the current working directory."
   ]
  },
  {
   "cell_type": "raw",
   "id": "c4727447",
   "metadata": {},
   "source": [
    "2. What does an absolute path start with your operating system?\n",
    "Ans:\n",
    "Absolute paths start with the root folder, such as / or C:\\."
   ]
  },
  {
   "cell_type": "raw",
   "id": "732cd9e1",
   "metadata": {},
   "source": [
    "3. What do the functions os.getcwd() and os.chdir() do?\n",
    "Ans:\n",
    "The os.getcwd() function returns the current working directory. \n",
    "The os.chdir() function changes the current working directory."
   ]
  },
  {
   "cell_type": "raw",
   "id": "b37ae200",
   "metadata": {},
   "source": [
    "4. What are the . and .. folders?\n",
    "Ans:\n",
    "The . folder is the current folder, and .. is the parent folder."
   ]
  },
  {
   "cell_type": "raw",
   "id": "054c4bdf",
   "metadata": {},
   "source": [
    "5. In C:\\bacon\\eggs\\spam.txt, which part is the dir name, and which part is the base name?\n",
    "Ans:\n",
    "C:\\bacon\\eggs is the dir name, while spam.txt is the base name."
   ]
  },
  {
   "cell_type": "raw",
   "id": "bcfaede3",
   "metadata": {},
   "source": [
    "6. What are the three “mode” arguments that can be passed to the open() function?\n",
    "Ans:\n",
    "The string 'r' for read mode, 'w' for write mode, and 'a' for append mode"
   ]
  },
  {
   "cell_type": "raw",
   "id": "e3c6b72e",
   "metadata": {},
   "source": [
    "7. What happens if an existing file is opened in write mode?\n",
    "Ans:\n",
    "An existing file opened in write mode is erased and completely overwritten."
   ]
  },
  {
   "cell_type": "raw",
   "id": "1730bc60",
   "metadata": {},
   "source": [
    "8. How do you tell the difference between read() and readlines()?\n",
    "Ans:\n",
    "The read() method returns the file's entire contents as a single string value. \n",
    "The readlines() method returns a list of strings, where each string is a line from the file's contents."
   ]
  },
  {
   "cell_type": "raw",
   "id": "ddd16946",
   "metadata": {},
   "source": [
    "9. What data structure does a shelf value resemble?\n",
    "Ans:\n",
    "shelf value resembles a dictionary value. It has keys and values, along with keys() and values() methods that work similarly to the dictionary methods of the same names."
   ]
  }
 ],
 "metadata": {
  "kernelspec": {
   "display_name": "Python 3 (ipykernel)",
   "language": "python",
   "name": "python3"
  },
  "language_info": {
   "codemirror_mode": {
    "name": "ipython",
    "version": 3
   },
   "file_extension": ".py",
   "mimetype": "text/x-python",
   "name": "python",
   "nbconvert_exporter": "python",
   "pygments_lexer": "ipython3",
   "version": "3.9.7"
  }
 },
 "nbformat": 4,
 "nbformat_minor": 5
}
